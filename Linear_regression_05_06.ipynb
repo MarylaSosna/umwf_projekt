{
 "cells": [
  {
   "cell_type": "code",
   "execution_count": 1,
   "metadata": {
    "id": "P-VKNz75RgIU"
   },
   "outputs": [],
   "source": [
    "import pandas as pd\n",
    "import numpy as np\n",
    "from sklearn.linear_model import LinearRegression\n",
    "from sklearn.model_selection import train_test_split\n",
    "import sklearn.metrics as sm\n",
    "\n",
    "pd.set_option('display.max_columns', None)\n",
    "pd.set_option('display.max_rows', None)"
   ]
  },
  {
   "cell_type": "markdown",
   "metadata": {},
   "source": [
    "# Wczytanie i obróbka danych"
   ]
  },
  {
   "cell_type": "code",
   "execution_count": 12,
   "metadata": {
    "id": "EbcrnrYtR_Kl"
   },
   "outputs": [],
   "source": [
    "url = \"https://raw.githubusercontent.com/MarylaSosna/umwf_projekt/main/df_all.csv\"\n",
    "df = pd.read_csv(url, sep=\",\")\n",
    "df = df.drop(columns=\"Unnamed: 0\")\n",
    "df[\"Date\"] = pd.to_datetime(df[\"Date\"], format=\"%Y-%m-%d\")"
   ]
  },
  {
   "cell_type": "code",
   "execution_count": 13,
   "metadata": {
    "colab": {
     "base_uri": "https://localhost:8080/",
     "height": 206
    },
    "id": "12ayLDIBSIx8",
    "outputId": "967b5323-2845-4bfc-eadc-795686ae0888"
   },
   "outputs": [
    {
     "data": {
      "text/html": [
       "<div>\n",
       "<style scoped>\n",
       "    .dataframe tbody tr th:only-of-type {\n",
       "        vertical-align: middle;\n",
       "    }\n",
       "\n",
       "    .dataframe tbody tr th {\n",
       "        vertical-align: top;\n",
       "    }\n",
       "\n",
       "    .dataframe thead th {\n",
       "        text-align: right;\n",
       "    }\n",
       "</style>\n",
       "<table border=\"1\" class=\"dataframe\">\n",
       "  <thead>\n",
       "    <tr style=\"text-align: right;\">\n",
       "      <th></th>\n",
       "      <th>Close</th>\n",
       "      <th>Comp</th>\n",
       "      <th>Date</th>\n",
       "      <th>ROR_month</th>\n",
       "      <th>ROR_qtr</th>\n",
       "      <th>ROR_half_year</th>\n",
       "      <th>ROR_year</th>\n",
       "      <th>Score</th>\n",
       "      <th>Oil</th>\n",
       "      <th>Gold</th>\n",
       "      <th>USD to Yuan</th>\n",
       "      <th>Category</th>\n",
       "    </tr>\n",
       "  </thead>\n",
       "  <tbody>\n",
       "    <tr>\n",
       "      <th>0</th>\n",
       "      <td>6.163362</td>\n",
       "      <td>UBA</td>\n",
       "      <td>2004-03-24</td>\n",
       "      <td>0.083411</td>\n",
       "      <td>NaN</td>\n",
       "      <td>NaN</td>\n",
       "      <td>NaN</td>\n",
       "      <td>0.741122</td>\n",
       "      <td>37.009998</td>\n",
       "      <td>417.200012</td>\n",
       "      <td>8.267201</td>\n",
       "      <td>8</td>\n",
       "    </tr>\n",
       "    <tr>\n",
       "      <th>1</th>\n",
       "      <td>7.158419</td>\n",
       "      <td>UBA</td>\n",
       "      <td>2005-06-15</td>\n",
       "      <td>0.087692</td>\n",
       "      <td>0.098211</td>\n",
       "      <td>0.032070</td>\n",
       "      <td>0.254842</td>\n",
       "      <td>0.803913</td>\n",
       "      <td>55.570000</td>\n",
       "      <td>429.100006</td>\n",
       "      <td>8.266501</td>\n",
       "      <td>8</td>\n",
       "    </tr>\n",
       "    <tr>\n",
       "      <th>2</th>\n",
       "      <td>7.281594</td>\n",
       "      <td>UBA</td>\n",
       "      <td>2005-06-29</td>\n",
       "      <td>0.045381</td>\n",
       "      <td>0.134050</td>\n",
       "      <td>0.014216</td>\n",
       "      <td>0.223035</td>\n",
       "      <td>0.806620</td>\n",
       "      <td>57.259998</td>\n",
       "      <td>NaN</td>\n",
       "      <td>8.266501</td>\n",
       "      <td>8</td>\n",
       "    </tr>\n",
       "    <tr>\n",
       "      <th>3</th>\n",
       "      <td>7.605220</td>\n",
       "      <td>UBA</td>\n",
       "      <td>2005-07-13</td>\n",
       "      <td>0.066313</td>\n",
       "      <td>0.228741</td>\n",
       "      <td>0.148893</td>\n",
       "      <td>0.219617</td>\n",
       "      <td>0.923381</td>\n",
       "      <td>60.009998</td>\n",
       "      <td>423.899994</td>\n",
       "      <td>8.266501</td>\n",
       "      <td>8</td>\n",
       "    </tr>\n",
       "    <tr>\n",
       "      <th>4</th>\n",
       "      <td>7.613519</td>\n",
       "      <td>UBA</td>\n",
       "      <td>2005-07-27</td>\n",
       "      <td>0.062501</td>\n",
       "      <td>0.249711</td>\n",
       "      <td>0.149382</td>\n",
       "      <td>0.305484</td>\n",
       "      <td>0.923270</td>\n",
       "      <td>59.110001</td>\n",
       "      <td>424.700012</td>\n",
       "      <td>8.102800</td>\n",
       "      <td>8</td>\n",
       "    </tr>\n",
       "  </tbody>\n",
       "</table>\n",
       "</div>"
      ],
      "text/plain": [
       "      Close Comp       Date  ROR_month   ROR_qtr  ROR_half_year  ROR_year  \\\n",
       "0  6.163362  UBA 2004-03-24   0.083411       NaN            NaN       NaN   \n",
       "1  7.158419  UBA 2005-06-15   0.087692  0.098211       0.032070  0.254842   \n",
       "2  7.281594  UBA 2005-06-29   0.045381  0.134050       0.014216  0.223035   \n",
       "3  7.605220  UBA 2005-07-13   0.066313  0.228741       0.148893  0.219617   \n",
       "4  7.613519  UBA 2005-07-27   0.062501  0.249711       0.149382  0.305484   \n",
       "\n",
       "      Score        Oil        Gold  USD to Yuan  Category  \n",
       "0  0.741122  37.009998  417.200012     8.267201         8  \n",
       "1  0.803913  55.570000  429.100006     8.266501         8  \n",
       "2  0.806620  57.259998         NaN     8.266501         8  \n",
       "3  0.923381  60.009998  423.899994     8.266501         8  \n",
       "4  0.923270  59.110001  424.700012     8.102800         8  "
      ]
     },
     "execution_count": 13,
     "metadata": {},
     "output_type": "execute_result"
    }
   ],
   "source": [
    "df.head()"
   ]
  },
  {
   "cell_type": "code",
   "execution_count": 14,
   "metadata": {
    "id": "Qc0hyty-SKA9"
   },
   "outputs": [],
   "source": [
    "df_clear = df.copy()\n",
    "df_clear = df.dropna()\n",
    "df.shape"
   ]
  },
  {
   "cell_type": "markdown",
   "metadata": {},
   "source": [
    "# Regresja liniowa"
   ]
  },
  {
   "cell_type": "markdown",
   "metadata": {},
   "source": [
    "W regresji liniowej za zmienne objaśniające przyjumujemy 'Score', 'Oil', 'Gold', 'USD to Yuan', 'Category' oraz ewentualnie 'Close' w zależności, czy wpływa to pozytywnie na wyniki (a dzieje się tak w przypadku horyzontów miesięcznego i kwartalnego). \n",
    "\n",
    "Na próbę testową składa się 30% obserwacji.\n",
    "\n",
    "Prognozujemy wsyokość stopy zwrotu w odpowiednim horyzoncie (zmienne ROR_)."
   ]
  },
  {
   "cell_type": "code",
   "execution_count": 85,
   "metadata": {},
   "outputs": [],
   "source": [
    "def choice_of_variables(y:str):\n",
    "    x_cols = [col for col in df_clear.columns if col != y if not col.startswith(\"ROR_\")]\n",
    "    x_cols.remove(\"Date\")\n",
    "    x_cols.remove(\"Comp\")\n",
    "    return x_cols"
   ]
  },
  {
   "cell_type": "code",
   "execution_count": 86,
   "metadata": {
    "scrolled": false
   },
   "outputs": [
    {
     "name": "stdout",
     "output_type": "stream",
     "text": [
      "['Close', 'Score', 'Oil', 'Gold', 'USD to Yuan', 'Category']\n"
     ]
    }
   ],
   "source": [
    "a = choice_of_variables(\"ROR_year\")\n",
    "print(a)"
   ]
  },
  {
   "cell_type": "code",
   "execution_count": 87,
   "metadata": {},
   "outputs": [],
   "source": [
    "def do_regression(y=y, x_cols=x_cols):\n",
    "    X_train, X_test, y_train, y_test = train_test_split(df_clear[x_cols], df_clear[y], test_size=0.3, random_state=42)\n",
    "    print(\"Dane treningowe:\\n \", \"X: \", X_train.shape, \"y: \", y_train.shape,\n",
    "         \"\\nDane tesowe: \\n\", \"X: \", X_test.shape, \"y: \", y_test.shape)\n",
    "    regressor = LinearRegression()\n",
    "    regressor.fit(X_train, y_train)\n",
    "    y_pred = regressor.predict(X_test)\n",
    "    return y_test, y_pred"
   ]
  },
  {
   "cell_type": "code",
   "execution_count": 88,
   "metadata": {
    "id": "rN-Y8zbJSkc4"
   },
   "outputs": [],
   "source": [
    "def print_result(y_test, y_pred):\n",
    "    print(\"Mean absolute error =\", round(sm.mean_absolute_error(y_test, y_pred), 2)) \n",
    "    print(\"Mean squared error =\", round(sm.mean_squared_error(y_test, y_pred), 2)) \n",
    "    print(\"Median absolute error =\", round(sm.median_absolute_error(y_test, y_pred), 2)) \n",
    "    print(\"Explain variance score =\", round(sm.explained_variance_score(y_test, y_pred), 2)) \n",
    "    print(\"R2 score =\", round(sm.r2_score(y_test, y_pred), 4))"
   ]
  },
  {
   "cell_type": "markdown",
   "metadata": {},
   "source": [
    "## Horyzont miesięczny"
   ]
  },
  {
   "cell_type": "code",
   "execution_count": 122,
   "metadata": {
    "id": "rLHRYOsXSWkc"
   },
   "outputs": [],
   "source": [
    "# Wybór zmiennych objaśnianych i objaśniających\n",
    "y = 'ROR_month'\n",
    "x_cols = choice_of_variables(y)\n",
    "x_cols.remove(\"Close\")"
   ]
  },
  {
   "cell_type": "code",
   "execution_count": 123,
   "metadata": {},
   "outputs": [
    {
     "name": "stdout",
     "output_type": "stream",
     "text": [
      "Dane treningowe:\n",
      "  X:  (20020, 5) y:  (20020,) \n",
      "Dane tesowe: \n",
      " X:  (8581, 5) y:  (8581,)\n"
     ]
    }
   ],
   "source": [
    "y_test, y_pred = do_regression(y, x_cols)"
   ]
  },
  {
   "cell_type": "code",
   "execution_count": 124,
   "metadata": {
    "colab": {
     "base_uri": "https://localhost:8080/"
    },
    "id": "jBt8eUitSvm8",
    "outputId": "93e8932c-50f0-4a23-96d7-0635246585f6",
    "scrolled": false
   },
   "outputs": [
    {
     "name": "stdout",
     "output_type": "stream",
     "text": [
      "Mean absolute error = 0.06\n",
      "Mean squared error = 0.01\n",
      "Median absolute error = 0.04\n",
      "Explain variance score = 0.0\n",
      "R2 score = 0.001\n"
     ]
    }
   ],
   "source": [
    "print_result(y_test, y_pred)"
   ]
  },
  {
   "cell_type": "markdown",
   "metadata": {},
   "source": [
    "## Horyzont kwartalny"
   ]
  },
  {
   "cell_type": "code",
   "execution_count": 104,
   "metadata": {
    "id": "rLHRYOsXSWkc"
   },
   "outputs": [],
   "source": [
    "y = \"ROR_qtr\"\n",
    "x_cols = choice_of_variables(y)\n",
    "x_cols.remove(\"Close\")"
   ]
  },
  {
   "cell_type": "code",
   "execution_count": 105,
   "metadata": {},
   "outputs": [
    {
     "name": "stdout",
     "output_type": "stream",
     "text": [
      "Dane treningowe:\n",
      "  X:  (20020, 5) y:  (20020,) \n",
      "Dane tesowe: \n",
      " X:  (8581, 5) y:  (8581,)\n"
     ]
    }
   ],
   "source": [
    "y_test, y_pred = do_regression(y, x_cols)"
   ]
  },
  {
   "cell_type": "code",
   "execution_count": 106,
   "metadata": {
    "colab": {
     "base_uri": "https://localhost:8080/"
    },
    "id": "jBt8eUitSvm8",
    "outputId": "93e8932c-50f0-4a23-96d7-0635246585f6",
    "scrolled": true
   },
   "outputs": [
    {
     "name": "stdout",
     "output_type": "stream",
     "text": [
      "Mean absolute error = 0.1\n",
      "Mean squared error = 0.03\n",
      "Median absolute error = 0.07\n",
      "Explain variance score = 0.01\n",
      "R2 score = 0.0121\n"
     ]
    }
   ],
   "source": [
    "print_result(y_test, y_pred)"
   ]
  },
  {
   "cell_type": "markdown",
   "metadata": {},
   "source": [
    "## Horyzont półroczny"
   ]
  },
  {
   "cell_type": "code",
   "execution_count": 110,
   "metadata": {
    "id": "rLHRYOsXSWkc"
   },
   "outputs": [],
   "source": [
    "y = 'ROR_half_year'\n",
    "x_cols = choice_of_variables(y)"
   ]
  },
  {
   "cell_type": "code",
   "execution_count": 111,
   "metadata": {},
   "outputs": [
    {
     "name": "stdout",
     "output_type": "stream",
     "text": [
      "Dane treningowe:\n",
      "  X:  (20020, 6) y:  (20020,) \n",
      "Dane tesowe: \n",
      " X:  (8581, 6) y:  (8581,)\n"
     ]
    }
   ],
   "source": [
    "y_test, y_pred = do_regression(y, x_cols)"
   ]
  },
  {
   "cell_type": "code",
   "execution_count": 112,
   "metadata": {
    "colab": {
     "base_uri": "https://localhost:8080/"
    },
    "id": "jBt8eUitSvm8",
    "outputId": "93e8932c-50f0-4a23-96d7-0635246585f6",
    "scrolled": true
   },
   "outputs": [
    {
     "name": "stdout",
     "output_type": "stream",
     "text": [
      "Mean absolute error = 0.13\n",
      "Mean squared error = 0.04\n",
      "Median absolute error = 0.1\n",
      "Explain variance score = 0.03\n",
      "R2 score = 0.0322\n"
     ]
    }
   ],
   "source": [
    "print_result(y_test, y_pred)"
   ]
  },
  {
   "cell_type": "markdown",
   "metadata": {
    "id": "G3zP1X_SSY-H"
   },
   "source": [
    "## Horyzont roczny"
   ]
  },
  {
   "cell_type": "code",
   "execution_count": 116,
   "metadata": {
    "id": "rLHRYOsXSWkc"
   },
   "outputs": [],
   "source": [
    "y = 'ROR_year'\n",
    "x_cols = choice_of_variables(y)"
   ]
  },
  {
   "cell_type": "code",
   "execution_count": 117,
   "metadata": {},
   "outputs": [
    {
     "name": "stdout",
     "output_type": "stream",
     "text": [
      "Dane treningowe:\n",
      "  X:  (20020, 6) y:  (20020,) \n",
      "Dane tesowe: \n",
      " X:  (8581, 6) y:  (8581,)\n"
     ]
    }
   ],
   "source": [
    "y_test, y_pred = do_regression(y, x_cols)"
   ]
  },
  {
   "cell_type": "code",
   "execution_count": 118,
   "metadata": {
    "colab": {
     "base_uri": "https://localhost:8080/"
    },
    "id": "jBt8eUitSvm8",
    "outputId": "93e8932c-50f0-4a23-96d7-0635246585f6",
    "scrolled": true
   },
   "outputs": [
    {
     "name": "stdout",
     "output_type": "stream",
     "text": [
      "Mean absolute error = 0.17\n",
      "Mean squared error = 0.06\n",
      "Median absolute error = 0.13\n",
      "Explain variance score = 0.09\n",
      "R2 score = 0.0861\n"
     ]
    }
   ],
   "source": [
    "print_result(y_test, y_pred)"
   ]
  }
 ],
 "metadata": {
  "colab": {
   "name": "Regresja liniowa 05.06.ipynb",
   "provenance": []
  },
  "kernelspec": {
   "display_name": "Python 3 (ipykernel)",
   "language": "python",
   "name": "python3"
  },
  "language_info": {
   "codemirror_mode": {
    "name": "ipython",
    "version": 3
   },
   "file_extension": ".py",
   "mimetype": "text/x-python",
   "name": "python",
   "nbconvert_exporter": "python",
   "pygments_lexer": "ipython3",
   "version": "3.9.2"
  }
 },
 "nbformat": 4,
 "nbformat_minor": 1
}
