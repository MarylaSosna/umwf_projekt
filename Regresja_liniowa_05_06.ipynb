{
  "nbformat": 4,
  "nbformat_minor": 0,
  "metadata": {
    "colab": {
      "name": "Regresja liniowa 05.06.ipynb",
      "provenance": []
    },
    "kernelspec": {
      "name": "python3",
      "display_name": "Python 3"
    },
    "language_info": {
      "name": "python"
    }
  },
  "cells": [
    {
      "cell_type": "code",
      "execution_count": 1,
      "metadata": {
        "id": "P-VKNz75RgIU"
      },
      "outputs": [],
      "source": [
        "import pandas as pd\n",
        "import numpy as np\n",
        "from sklearn.linear_model import LinearRegression\n",
        "from sklearn.model_selection import train_test_split\n",
        "import sklearn.metrics as sm\n",
        "\n",
        "pd.set_option('display.max_columns', None)\n",
        "pd.set_option('display.max_rows', None)"
      ]
    },
    {
      "cell_type": "code",
      "source": [
        "df = pd.read_csv('df_all.csv', sep = ';')"
      ],
      "metadata": {
        "id": "EbcrnrYtR_Kl"
      },
      "execution_count": 4,
      "outputs": []
    },
    {
      "cell_type": "code",
      "source": [
        "df.head()"
      ],
      "metadata": {
        "colab": {
          "base_uri": "https://localhost:8080/",
          "height": 206
        },
        "id": "12ayLDIBSIx8",
        "outputId": "967b5323-2845-4bfc-eadc-795686ae0888"
      },
      "execution_count": 5,
      "outputs": [
        {
          "output_type": "execute_result",
          "data": {
            "text/plain": [
              "   Column1     Close Comp        Date  ROR_month   ROR_qtr  ROR_half_year  \\\n",
              "0        0  6.163362  UBA  24.03.2004   0.083411       NaN            NaN   \n",
              "1        1  7.158419  UBA  15.06.2005   0.087692  0.098211       0.032070   \n",
              "2        2  7.281594  UBA  29.06.2005   0.045381  0.134050       0.014216   \n",
              "3        3  7.605220  UBA  13.07.2005   0.066313  0.228741       0.148893   \n",
              "4        4  7.613519  UBA  27.07.2005   0.062501  0.249711       0.149382   \n",
              "\n",
              "   ROR_year     Score        Oil        Gold  USD to Yuan  Category  \n",
              "0       NaN  0.741122  37.009998  417.200012     8.267201       8.0  \n",
              "1  0.254842  0.803913  55.570000  429.100006     8.266501       8.0  \n",
              "2  0.223035  0.806620  57.259998         NaN     8.266501       8.0  \n",
              "3  0.219617  0.923381  60.009998  423.899994     8.266501       8.0  \n",
              "4  0.305484  0.923270  59.110001  424.700012     8.102800       8.0  "
            ],
            "text/html": [
              "\n",
              "  <div id=\"df-b6798cf8-6594-4b78-b8e5-4a5087b4bc72\">\n",
              "    <div class=\"colab-df-container\">\n",
              "      <div>\n",
              "<style scoped>\n",
              "    .dataframe tbody tr th:only-of-type {\n",
              "        vertical-align: middle;\n",
              "    }\n",
              "\n",
              "    .dataframe tbody tr th {\n",
              "        vertical-align: top;\n",
              "    }\n",
              "\n",
              "    .dataframe thead th {\n",
              "        text-align: right;\n",
              "    }\n",
              "</style>\n",
              "<table border=\"1\" class=\"dataframe\">\n",
              "  <thead>\n",
              "    <tr style=\"text-align: right;\">\n",
              "      <th></th>\n",
              "      <th>Column1</th>\n",
              "      <th>Close</th>\n",
              "      <th>Comp</th>\n",
              "      <th>Date</th>\n",
              "      <th>ROR_month</th>\n",
              "      <th>ROR_qtr</th>\n",
              "      <th>ROR_half_year</th>\n",
              "      <th>ROR_year</th>\n",
              "      <th>Score</th>\n",
              "      <th>Oil</th>\n",
              "      <th>Gold</th>\n",
              "      <th>USD to Yuan</th>\n",
              "      <th>Category</th>\n",
              "    </tr>\n",
              "  </thead>\n",
              "  <tbody>\n",
              "    <tr>\n",
              "      <th>0</th>\n",
              "      <td>0</td>\n",
              "      <td>6.163362</td>\n",
              "      <td>UBA</td>\n",
              "      <td>24.03.2004</td>\n",
              "      <td>0.083411</td>\n",
              "      <td>NaN</td>\n",
              "      <td>NaN</td>\n",
              "      <td>NaN</td>\n",
              "      <td>0.741122</td>\n",
              "      <td>37.009998</td>\n",
              "      <td>417.200012</td>\n",
              "      <td>8.267201</td>\n",
              "      <td>8.0</td>\n",
              "    </tr>\n",
              "    <tr>\n",
              "      <th>1</th>\n",
              "      <td>1</td>\n",
              "      <td>7.158419</td>\n",
              "      <td>UBA</td>\n",
              "      <td>15.06.2005</td>\n",
              "      <td>0.087692</td>\n",
              "      <td>0.098211</td>\n",
              "      <td>0.032070</td>\n",
              "      <td>0.254842</td>\n",
              "      <td>0.803913</td>\n",
              "      <td>55.570000</td>\n",
              "      <td>429.100006</td>\n",
              "      <td>8.266501</td>\n",
              "      <td>8.0</td>\n",
              "    </tr>\n",
              "    <tr>\n",
              "      <th>2</th>\n",
              "      <td>2</td>\n",
              "      <td>7.281594</td>\n",
              "      <td>UBA</td>\n",
              "      <td>29.06.2005</td>\n",
              "      <td>0.045381</td>\n",
              "      <td>0.134050</td>\n",
              "      <td>0.014216</td>\n",
              "      <td>0.223035</td>\n",
              "      <td>0.806620</td>\n",
              "      <td>57.259998</td>\n",
              "      <td>NaN</td>\n",
              "      <td>8.266501</td>\n",
              "      <td>8.0</td>\n",
              "    </tr>\n",
              "    <tr>\n",
              "      <th>3</th>\n",
              "      <td>3</td>\n",
              "      <td>7.605220</td>\n",
              "      <td>UBA</td>\n",
              "      <td>13.07.2005</td>\n",
              "      <td>0.066313</td>\n",
              "      <td>0.228741</td>\n",
              "      <td>0.148893</td>\n",
              "      <td>0.219617</td>\n",
              "      <td>0.923381</td>\n",
              "      <td>60.009998</td>\n",
              "      <td>423.899994</td>\n",
              "      <td>8.266501</td>\n",
              "      <td>8.0</td>\n",
              "    </tr>\n",
              "    <tr>\n",
              "      <th>4</th>\n",
              "      <td>4</td>\n",
              "      <td>7.613519</td>\n",
              "      <td>UBA</td>\n",
              "      <td>27.07.2005</td>\n",
              "      <td>0.062501</td>\n",
              "      <td>0.249711</td>\n",
              "      <td>0.149382</td>\n",
              "      <td>0.305484</td>\n",
              "      <td>0.923270</td>\n",
              "      <td>59.110001</td>\n",
              "      <td>424.700012</td>\n",
              "      <td>8.102800</td>\n",
              "      <td>8.0</td>\n",
              "    </tr>\n",
              "  </tbody>\n",
              "</table>\n",
              "</div>\n",
              "      <button class=\"colab-df-convert\" onclick=\"convertToInteractive('df-b6798cf8-6594-4b78-b8e5-4a5087b4bc72')\"\n",
              "              title=\"Convert this dataframe to an interactive table.\"\n",
              "              style=\"display:none;\">\n",
              "        \n",
              "  <svg xmlns=\"http://www.w3.org/2000/svg\" height=\"24px\"viewBox=\"0 0 24 24\"\n",
              "       width=\"24px\">\n",
              "    <path d=\"M0 0h24v24H0V0z\" fill=\"none\"/>\n",
              "    <path d=\"M18.56 5.44l.94 2.06.94-2.06 2.06-.94-2.06-.94-.94-2.06-.94 2.06-2.06.94zm-11 1L8.5 8.5l.94-2.06 2.06-.94-2.06-.94L8.5 2.5l-.94 2.06-2.06.94zm10 10l.94 2.06.94-2.06 2.06-.94-2.06-.94-.94-2.06-.94 2.06-2.06.94z\"/><path d=\"M17.41 7.96l-1.37-1.37c-.4-.4-.92-.59-1.43-.59-.52 0-1.04.2-1.43.59L10.3 9.45l-7.72 7.72c-.78.78-.78 2.05 0 2.83L4 21.41c.39.39.9.59 1.41.59.51 0 1.02-.2 1.41-.59l7.78-7.78 2.81-2.81c.8-.78.8-2.07 0-2.86zM5.41 20L4 18.59l7.72-7.72 1.47 1.35L5.41 20z\"/>\n",
              "  </svg>\n",
              "      </button>\n",
              "      \n",
              "  <style>\n",
              "    .colab-df-container {\n",
              "      display:flex;\n",
              "      flex-wrap:wrap;\n",
              "      gap: 12px;\n",
              "    }\n",
              "\n",
              "    .colab-df-convert {\n",
              "      background-color: #E8F0FE;\n",
              "      border: none;\n",
              "      border-radius: 50%;\n",
              "      cursor: pointer;\n",
              "      display: none;\n",
              "      fill: #1967D2;\n",
              "      height: 32px;\n",
              "      padding: 0 0 0 0;\n",
              "      width: 32px;\n",
              "    }\n",
              "\n",
              "    .colab-df-convert:hover {\n",
              "      background-color: #E2EBFA;\n",
              "      box-shadow: 0px 1px 2px rgba(60, 64, 67, 0.3), 0px 1px 3px 1px rgba(60, 64, 67, 0.15);\n",
              "      fill: #174EA6;\n",
              "    }\n",
              "\n",
              "    [theme=dark] .colab-df-convert {\n",
              "      background-color: #3B4455;\n",
              "      fill: #D2E3FC;\n",
              "    }\n",
              "\n",
              "    [theme=dark] .colab-df-convert:hover {\n",
              "      background-color: #434B5C;\n",
              "      box-shadow: 0px 1px 3px 1px rgba(0, 0, 0, 0.15);\n",
              "      filter: drop-shadow(0px 1px 2px rgba(0, 0, 0, 0.3));\n",
              "      fill: #FFFFFF;\n",
              "    }\n",
              "  </style>\n",
              "\n",
              "      <script>\n",
              "        const buttonEl =\n",
              "          document.querySelector('#df-b6798cf8-6594-4b78-b8e5-4a5087b4bc72 button.colab-df-convert');\n",
              "        buttonEl.style.display =\n",
              "          google.colab.kernel.accessAllowed ? 'block' : 'none';\n",
              "\n",
              "        async function convertToInteractive(key) {\n",
              "          const element = document.querySelector('#df-b6798cf8-6594-4b78-b8e5-4a5087b4bc72');\n",
              "          const dataTable =\n",
              "            await google.colab.kernel.invokeFunction('convertToInteractive',\n",
              "                                                     [key], {});\n",
              "          if (!dataTable) return;\n",
              "\n",
              "          const docLinkHtml = 'Like what you see? Visit the ' +\n",
              "            '<a target=\"_blank\" href=https://colab.research.google.com/notebooks/data_table.ipynb>data table notebook</a>'\n",
              "            + ' to learn more about interactive tables.';\n",
              "          element.innerHTML = '';\n",
              "          dataTable['output_type'] = 'display_data';\n",
              "          await google.colab.output.renderOutput(dataTable, element);\n",
              "          const docLink = document.createElement('div');\n",
              "          docLink.innerHTML = docLinkHtml;\n",
              "          element.appendChild(docLink);\n",
              "        }\n",
              "      </script>\n",
              "    </div>\n",
              "  </div>\n",
              "  "
            ]
          },
          "metadata": {},
          "execution_count": 5
        }
      ]
    },
    {
      "cell_type": "code",
      "source": [
        "df = df.drop('Column1', axis = 1)\n",
        "df_clear = df.copy()\n",
        "df_clear = df.dropna()"
      ],
      "metadata": {
        "id": "Qc0hyty-SKA9"
      },
      "execution_count": 6,
      "outputs": []
    },
    {
      "cell_type": "markdown",
      "source": [
        "# Regresja linowa - horyzont roczny"
      ],
      "metadata": {
        "id": "G3zP1X_SSY-H"
      }
    },
    {
      "cell_type": "code",
      "source": [
        "# Wybór zmiennych objaśnianych i objaśniających\n",
        "y = 'ROR_year'\n",
        "x_cols = [col for col in df_clear.columns if col != y]\n",
        "x_cols.remove('Date')\n",
        "x_cols.remove('Comp')\n",
        "x_cols.remove('ROR_qtr')\n",
        "x_cols.remove('ROR_half_year')"
      ],
      "metadata": {
        "id": "rLHRYOsXSWkc"
      },
      "execution_count": 7,
      "outputs": []
    },
    {
      "cell_type": "code",
      "source": [
        "# Dzielenie danych na treningowe i testowe\n",
        "X_train, X_test, y_train, y_test = train_test_split(df_clear[x_cols], df_clear[y], test_size=0.3, random_state=42)\n",
        "X_train.shape, X_test.shape, y_train.shape, y_test.shape"
      ],
      "metadata": {
        "colab": {
          "base_uri": "https://localhost:8080/"
        },
        "id": "Pg5mUBd_SiEo",
        "outputId": "ff11aff3-8d52-4d8a-d72c-fe7ca6f15939"
      },
      "execution_count": 8,
      "outputs": [
        {
          "output_type": "execute_result",
          "data": {
            "text/plain": [
              "((16826, 7), (7212, 7), (16826,), (7212,))"
            ]
          },
          "metadata": {},
          "execution_count": 8
        }
      ]
    },
    {
      "cell_type": "code",
      "source": [
        "def print_result(y_test, y_pred):\n",
        "    print(\"Mean absolute error =\", round(sm.mean_absolute_error(y_test, y_pred), 2)) \n",
        "    print(\"Mean squared error =\", round(sm.mean_squared_error(y_test, y_pred), 2)) \n",
        "    print(\"Median absolute error =\", round(sm.median_absolute_error(y_test, y_pred), 2)) \n",
        "    print(\"Explain variance score =\", round(sm.explained_variance_score(y_test, y_pred), 2)) \n",
        "    print(\"R2 score =\", round(sm.r2_score(y_test, y_pred), 2))"
      ],
      "metadata": {
        "id": "rN-Y8zbJSkc4"
      },
      "execution_count": 9,
      "outputs": []
    },
    {
      "cell_type": "code",
      "source": [
        "# X_train, X_test, y_train, y_test = train_test_split(df_clear[x_cols], df_clear[y], test_size=0.3, random_state=42)\n",
        "# X_train.shape, X_test.shape, y_train.shape, y_test.shape\n",
        "regressor = LinearRegression()\n",
        "regressor.fit(X_train, y_train)\n",
        "y_pred = regressor.predict(X_test)"
      ],
      "metadata": {
        "id": "L0w5OK1eSnJz"
      },
      "execution_count": 10,
      "outputs": []
    },
    {
      "cell_type": "code",
      "source": [
        "print_result(y_test, y_pred)"
      ],
      "metadata": {
        "colab": {
          "base_uri": "https://localhost:8080/"
        },
        "id": "jBt8eUitSvm8",
        "outputId": "93e8932c-50f0-4a23-96d7-0635246585f6"
      },
      "execution_count": 11,
      "outputs": [
        {
          "output_type": "stream",
          "name": "stdout",
          "text": [
            "Mean absolute error = 0.16\n",
            "Mean squared error = 0.05\n",
            "Median absolute error = 0.12\n",
            "Explain variance score = 0.18\n",
            "R2 score = 0.18\n"
          ]
        }
      ]
    },
    {
      "cell_type": "markdown",
      "source": [
        "# Regresja linowa - horyzont półroczny"
      ],
      "metadata": {
        "id": "vX8bSmpwS1uC"
      }
    },
    {
      "cell_type": "code",
      "source": [
        "y = 'ROR_half_year'\n",
        "x_cols = [col for col in df_clear.columns if col != y]\n",
        "x_cols.remove('Date')\n",
        "x_cols.remove('Comp')\n",
        "x_cols.remove('ROR_qtr')\n",
        "x_cols.remove('ROR_year')"
      ],
      "metadata": {
        "id": "7C2v0JBXS4sZ"
      },
      "execution_count": 12,
      "outputs": []
    },
    {
      "cell_type": "code",
      "source": [
        "# Dzielenie danych na treningowe i testowe\n",
        "X_train, X_test, y_train, y_test = train_test_split(df_clear[x_cols], df_clear[y], test_size=0.3, random_state=42)\n",
        "X_train.shape, X_test.shape, y_train.shape, y_test.shape"
      ],
      "metadata": {
        "colab": {
          "base_uri": "https://localhost:8080/"
        },
        "id": "GqrBvhclS-V2",
        "outputId": "3b9a61e6-a5dd-4c0a-cb4c-70aecd329743"
      },
      "execution_count": 13,
      "outputs": [
        {
          "output_type": "execute_result",
          "data": {
            "text/plain": [
              "((16826, 7), (7212, 7), (16826,), (7212,))"
            ]
          },
          "metadata": {},
          "execution_count": 13
        }
      ]
    },
    {
      "cell_type": "code",
      "source": [
        "regressor = LinearRegression()\n",
        "regressor.fit(X_train, y_train)\n",
        "y_pred = regressor.predict(X_test)\n",
        "\n",
        "print_result(y_test, y_pred)"
      ],
      "metadata": {
        "colab": {
          "base_uri": "https://localhost:8080/"
        },
        "id": "xuSUj6M0TAZk",
        "outputId": "53bf619a-09c1-4487-b7b0-29e0ff1bda5a"
      },
      "execution_count": 14,
      "outputs": [
        {
          "output_type": "stream",
          "name": "stdout",
          "text": [
            "Mean absolute error = 0.12\n",
            "Mean squared error = 0.03\n",
            "Median absolute error = 0.09\n",
            "Explain variance score = 0.2\n",
            "R2 score = 0.19\n"
          ]
        }
      ]
    },
    {
      "cell_type": "markdown",
      "source": [
        "# Regresja liniowa - horyzont kwartalny"
      ],
      "metadata": {
        "id": "sGMJp7ZhTJaA"
      }
    },
    {
      "cell_type": "code",
      "source": [
        "y = 'ROR_qtr'\n",
        "x_cols = [col for col in df_clear.columns if col != y]\n",
        "x_cols.remove('Date')\n",
        "x_cols.remove('Comp')\n",
        "x_cols.remove('ROR_half_year')\n",
        "x_cols.remove('ROR_year')"
      ],
      "metadata": {
        "id": "BEd9qMfcSz2s"
      },
      "execution_count": 15,
      "outputs": []
    },
    {
      "cell_type": "code",
      "source": [
        "# Dzielenie danych na treningowe i testowe\n",
        "X_train, X_test, y_train, y_test = train_test_split(df_clear[x_cols], df_clear[y], test_size=0.3, random_state=42)\n",
        "X_train.shape, X_test.shape, y_train.shape, y_test.shape"
      ],
      "metadata": {
        "colab": {
          "base_uri": "https://localhost:8080/"
        },
        "id": "A7AhjN9CTRAf",
        "outputId": "1b6b8898-1795-451d-8897-fff12cd1765d"
      },
      "execution_count": 16,
      "outputs": [
        {
          "output_type": "execute_result",
          "data": {
            "text/plain": [
              "((16826, 7), (7212, 7), (16826,), (7212,))"
            ]
          },
          "metadata": {},
          "execution_count": 16
        }
      ]
    },
    {
      "cell_type": "code",
      "source": [
        "regressor = LinearRegression()\n",
        "regressor.fit(X_train, y_train)\n",
        "y_pred = regressor.predict(X_test)\n",
        "\n",
        "print_result(y_test, y_pred)"
      ],
      "metadata": {
        "id": "wavK1kyTTTqK",
        "outputId": "31400ed4-8129-4b3c-bef8-9014eb1bdae4",
        "colab": {
          "base_uri": "https://localhost:8080/"
        }
      },
      "execution_count": 17,
      "outputs": [
        {
          "output_type": "stream",
          "name": "stdout",
          "text": [
            "Mean absolute error = 0.08\n",
            "Mean squared error = 0.01\n",
            "Median absolute error = 0.06\n",
            "Explain variance score = 0.34\n",
            "R2 score = 0.34\n"
          ]
        }
      ]
    }
  ]
}